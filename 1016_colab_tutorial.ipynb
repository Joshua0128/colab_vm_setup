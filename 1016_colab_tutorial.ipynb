{
  "nbformat": 4,
  "nbformat_minor": 0,
  "metadata": {
    "colab": {
      "name": "1016_colab_tutorial.ipynb",
      "provenance": [],
      "authorship_tag": "ABX9TyO3ickB2pcl64Oet9ACd90G",
      "include_colab_link": true
    },
    "kernelspec": {
      "name": "python3",
      "display_name": "Python 3"
    },
    "language_info": {
      "name": "python"
    },
    "accelerator": "GPU"
  },
  "cells": [
    {
      "cell_type": "markdown",
      "metadata": {
        "id": "view-in-github",
        "colab_type": "text"
      },
      "source": [
        "<a href=\"https://colab.research.google.com/github/Joshua0128/colab_vm_setup/blob/main/1016_colab_tutorial.ipynb\" target=\"_parent\"><img src=\"https://colab.research.google.com/assets/colab-badge.svg\" alt=\"Open In Colab\"/></a>"
      ]
    },
    {
      "cell_type": "markdown",
      "metadata": {
        "id": "DWIhxYprjtUx"
      },
      "source": [
        "Outline:\n",
        "1.   基本操作 (基本快捷鍵, 更改語言, 使用GPU)\n",
        "2.   Colab %%magic \n",
        "3.   Mount google drive\n",
        "4.   上傳資料 (GUI, upload to google drive, git clone, wget, rsync)\n",
        "5.   將筆記本同步到github\n",
        "6.   透過線上 Vscode 使用 Colab VM\n",
        "6.   "
      ]
    },
    {
      "cell_type": "code",
      "metadata": {
        "colab": {
          "base_uri": "https://localhost:8080/"
        },
        "id": "xRK5Vy15hw1U",
        "outputId": "b3230415-152d-43e8-cd88-3b444cd2434b"
      },
      "source": [
        "!df -H"
      ],
      "execution_count": 7,
      "outputs": [
        {
          "output_type": "stream",
          "name": "stdout",
          "text": [
            "Filesystem      Size  Used Avail Use% Mounted on\n",
            "overlay          84G   50G   35G  60% /\n",
            "tmpfs            68M     0   68M   0% /dev\n",
            "tmpfs           6.9G     0  6.9G   0% /sys/fs/cgroup\n",
            "shm             6.2G     0  6.2G   0% /dev/shm\n",
            "/dev/root       2.1G  1.2G  861M  59% /sbin/docker-init\n",
            "tmpfs           6.9G   29k  6.9G   1% /var/colab\n",
            "/dev/sda1        93G   55G   38G  60% /opt/bin/.nvidia\n",
            "tmpfs           6.9G     0  6.9G   0% /proc/acpi\n",
            "tmpfs           6.9G     0  6.9G   0% /proc/scsi\n",
            "tmpfs           6.9G     0  6.9G   0% /sys/firmware\n",
            "drive            84G   52G   33G  62% /content/drive\n"
          ]
        }
      ]
    },
    {
      "cell_type": "code",
      "metadata": {
        "id": "6uTQLnTLhZJ9"
      },
      "source": [
        "from google.colab import auth\n",
        "auth.authenticate_user()\n",
        "\n",
        "import gspread\n",
        "from oauth2client.client import GoogleCredentials\n",
        "\n",
        "gc = gspread.authorize(GoogleCredentials.get_application_default())\n",
        "\n",
        "worksheet = gc.open('Your spreadsheet name').sheet1\n",
        "\n",
        "# get_all_values gives a list of rows.\n",
        "rows = worksheet.get_all_values()\n",
        "print(rows)\n",
        "\n",
        "# Convert to a DataFrame and render.\n",
        "import pandas as pd\n",
        "pd.DataFrame.from_records(rows)"
      ],
      "execution_count": null,
      "outputs": []
    },
    {
      "cell_type": "code",
      "metadata": {
        "colab": {
          "base_uri": "https://localhost:8080/"
        },
        "id": "dTDG72c9hlk-",
        "outputId": "2065fcea-76dd-4f04-bbf2-ebec7317605e"
      },
      "source": [
        "from google.colab import drive\n",
        "drive.mount('/content/drive')"
      ],
      "execution_count": null,
      "outputs": [
        {
          "output_type": "stream",
          "name": "stdout",
          "text": [
            "Drive already mounted at /content/drive; to attempt to forcibly remount, call drive.mount(\"/content/drive\", force_remount=True).\n"
          ]
        }
      ]
    },
    {
      "cell_type": "code",
      "metadata": {
        "id": "xZgxEaKTgF8a"
      },
      "source": [
        ""
      ],
      "execution_count": null,
      "outputs": []
    }
  ]
}