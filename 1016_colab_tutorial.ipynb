{
  "nbformat": 4,
  "nbformat_minor": 0,
  "metadata": {
    "colab": {
      "name": "1016_colab_tutorial.ipynb",
      "provenance": [],
      "collapsed_sections": [],
      "authorship_tag": "ABX9TyMemQSyUPQKn05qjGsS0RPC",
      "include_colab_link": true
    },
    "kernelspec": {
      "name": "python3",
      "display_name": "Python 3"
    },
    "language_info": {
      "name": "python"
    },
    "accelerator": "GPU"
  },
  "cells": [
    {
      "cell_type": "markdown",
      "metadata": {
        "id": "view-in-github",
        "colab_type": "text"
      },
      "source": [
        "<a href=\"https://colab.research.google.com/github/Joshua0128/colab_vm_setup/blob/main/1016_colab_tutorial.ipynb\" target=\"_parent\"><img src=\"https://colab.research.google.com/assets/colab-badge.svg\" alt=\"Open In Colab\"/></a>"
      ]
    },
    {
      "cell_type": "markdown",
      "metadata": {
        "id": "DWIhxYprjtUx"
      },
      "source": [
        "Outline:\n",
        "1.   基本操作 (基本快捷鍵, 更改語言, 使用GPU)\n",
        "2.   Colab %%magic \n",
        "3.   Mount google drive\n",
        "4.   上傳資料 (GUI, upload to google drive, git clone, wget, rsync)\n",
        "5.   將筆記本同步到github\n",
        "6.   透過線上 Vscode 使用 Colab VM\n",
        "7.   使用ssh連線 Colab VM\n",
        "8.   使用local Vscode 連線 Colab VM"
      ]
    },
    {
      "cell_type": "code",
      "metadata": {
        "id": "61XYrt3ToVCv"
      },
      "source": [
        "import torch"
      ],
      "execution_count": null,
      "outputs": []
    },
    {
      "cell_type": "code",
      "metadata": {
        "colab": {
          "base_uri": "https://localhost:8080/"
        },
        "id": "02AIq5subkSD",
        "outputId": "15aeaa6c-4943-464b-834d-039d2657883d"
      },
      "source": [
        "!ls"
      ],
      "execution_count": null,
      "outputs": [
        {
          "output_type": "stream",
          "name": "stdout",
          "text": [
            "sample_data\n"
          ]
        }
      ]
    },
    {
      "cell_type": "code",
      "metadata": {
        "colab": {
          "base_uri": "https://localhost:8080/"
        },
        "id": "Mza6jcElbm-A",
        "outputId": "16eb22e0-adb2-4e28-a117-8825b1816901"
      },
      "source": [
        "%cd sample_data"
      ],
      "execution_count": null,
      "outputs": [
        {
          "output_type": "stream",
          "name": "stdout",
          "text": [
            "/content/sample_data\n"
          ]
        }
      ]
    },
    {
      "cell_type": "code",
      "metadata": {
        "colab": {
          "base_uri": "https://localhost:8080/"
        },
        "id": "Nnz4uH1qpRsR",
        "outputId": "da95cb36-cd3d-4a81-bfed-03a7b34ad4a7"
      },
      "source": [
        "a = torch.Tensor(1, 1, 1)\n",
        "print(a)\n",
        "print(a.shape)"
      ],
      "execution_count": null,
      "outputs": [
        {
          "output_type": "stream",
          "name": "stdout",
          "text": [
            "tensor([[[-2.9473e-31]]])\n",
            "torch.Size([1, 1, 1])\n"
          ]
        }
      ]
    },
    {
      "cell_type": "code",
      "metadata": {
        "id": "7lDrTUAdpR1L"
      },
      "source": [
        "class Cat:\n",
        "    _name = \"qbur\"\n",
        "\n",
        "    def attack(self):\n",
        "        print(\"-1 HP\")"
      ],
      "execution_count": null,
      "outputs": []
    },
    {
      "cell_type": "code",
      "metadata": {
        "colab": {
          "base_uri": "https://localhost:8080/"
        },
        "id": "vxF_8tTKpR5u",
        "outputId": "27667ce5-e8d4-40fb-d105-8c9069ed5c0d"
      },
      "source": [
        "c = Cat()\n",
        "c.attack()"
      ],
      "execution_count": null,
      "outputs": [
        {
          "output_type": "stream",
          "name": "stdout",
          "text": [
            "-1 HP\n"
          ]
        }
      ]
    },
    {
      "cell_type": "code",
      "metadata": {
        "colab": {
          "base_uri": "https://localhost:8080/"
        },
        "id": "mInD53TmqQUG",
        "outputId": "1d846b8e-93c7-4972-d9e0-7ad71392f281"
      },
      "source": [
        "!pwd"
      ],
      "execution_count": null,
      "outputs": [
        {
          "output_type": "stream",
          "name": "stdout",
          "text": [
            "/content\n"
          ]
        }
      ]
    },
    {
      "cell_type": "code",
      "metadata": {
        "colab": {
          "base_uri": "https://localhost:8080/"
        },
        "id": "Nd-9RnGIALjl",
        "outputId": "7dd900eb-8bc5-4353-a45c-8ffd401d3a9f"
      },
      "source": [
        "!ls -la"
      ],
      "execution_count": null,
      "outputs": [
        {
          "output_type": "stream",
          "name": "stdout",
          "text": [
            "total 16\n",
            "drwxr-xr-x 1 root root 4096 Oct  8 13:45 .\n",
            "drwxr-xr-x 1 root root 4096 Oct 16 07:29 ..\n",
            "drwxr-xr-x 4 root root 4096 Oct  8 13:44 .config\n",
            "drwxr-xr-x 1 root root 4096 Oct  8 13:45 sample_data\n"
          ]
        }
      ]
    },
    {
      "cell_type": "code",
      "metadata": {
        "colab": {
          "base_uri": "https://localhost:8080/"
        },
        "id": "FnYsMN2c_w8a",
        "outputId": "7ab0873f-89e7-4596-cb34-3317bbcfa248"
      },
      "source": [
        "!ls"
      ],
      "execution_count": null,
      "outputs": [
        {
          "output_type": "stream",
          "name": "stdout",
          "text": [
            "sample_data\n"
          ]
        }
      ]
    },
    {
      "cell_type": "code",
      "metadata": {
        "colab": {
          "base_uri": "https://localhost:8080/"
        },
        "id": "_oV66xdnqODi",
        "outputId": "6dbc7f61-493a-4fc4-ac79-071814273ef4"
      },
      "source": [
        "!nvidia-smi"
      ],
      "execution_count": null,
      "outputs": [
        {
          "output_type": "stream",
          "name": "stdout",
          "text": [
            "Sat Oct 16 07:33:16 2021       \n",
            "+-----------------------------------------------------------------------------+\n",
            "| NVIDIA-SMI 470.74       Driver Version: 460.32.03    CUDA Version: 11.2     |\n",
            "|-------------------------------+----------------------+----------------------+\n",
            "| GPU  Name        Persistence-M| Bus-Id        Disp.A | Volatile Uncorr. ECC |\n",
            "| Fan  Temp  Perf  Pwr:Usage/Cap|         Memory-Usage | GPU-Util  Compute M. |\n",
            "|                               |                      |               MIG M. |\n",
            "|===============================+======================+======================|\n",
            "|   0  Tesla K80           Off  | 00000000:00:04.0 Off |                    0 |\n",
            "| N/A   36C    P8    26W / 149W |      0MiB / 11441MiB |      0%      Default |\n",
            "|                               |                      |                  N/A |\n",
            "+-------------------------------+----------------------+----------------------+\n",
            "                                                                               \n",
            "+-----------------------------------------------------------------------------+\n",
            "| Processes:                                                                  |\n",
            "|  GPU   GI   CI        PID   Type   Process name                  GPU Memory |\n",
            "|        ID   ID                                                   Usage      |\n",
            "|=============================================================================|\n",
            "|  No running processes found                                                 |\n",
            "+-----------------------------------------------------------------------------+\n"
          ]
        }
      ]
    },
    {
      "cell_type": "markdown",
      "metadata": {
        "id": "_icZ-7-jqBAy"
      },
      "source": [
        "# Mount Google drive "
      ]
    },
    {
      "cell_type": "code",
      "metadata": {
        "colab": {
          "base_uri": "https://localhost:8080/"
        },
        "id": "WQcKb032pSUb",
        "outputId": "cd037575-9917-4b93-ea16-0630b6c312eb"
      },
      "source": [
        "!df -h"
      ],
      "execution_count": null,
      "outputs": [
        {
          "output_type": "stream",
          "name": "stdout",
          "text": [
            "Filesystem      Size  Used Avail Use% Mounted on\n",
            "overlay          79G   47G   32G  60% /\n",
            "tmpfs            64M     0   64M   0% /dev\n",
            "tmpfs           6.4G     0  6.4G   0% /sys/fs/cgroup\n",
            "shm             5.8G     0  5.8G   0% /dev/shm\n",
            "/dev/root       2.0G  1.2G  821M  59% /sbin/docker-init\n",
            "/dev/sda1        86G   51G   35G  60% /opt/bin/.nvidia\n",
            "tmpfs           6.4G   28K  6.4G   1% /var/colab\n",
            "tmpfs           6.4G     0  6.4G   0% /proc/acpi\n",
            "tmpfs           6.4G     0  6.4G   0% /proc/scsi\n",
            "tmpfs           6.4G     0  6.4G   0% /sys/firmware\n"
          ]
        }
      ]
    },
    {
      "cell_type": "code",
      "metadata": {
        "colab": {
          "base_uri": "https://localhost:8080/"
        },
        "id": "dTDG72c9hlk-",
        "outputId": "f58498c0-c66c-4b2f-b485-3ed866756165"
      },
      "source": [
        "from google.colab import drive\n",
        "drive.mount('/content/drive')"
      ],
      "execution_count": null,
      "outputs": [
        {
          "output_type": "stream",
          "name": "stdout",
          "text": [
            "Mounted at /content/drive\n"
          ]
        }
      ]
    },
    {
      "cell_type": "code",
      "metadata": {
        "id": "xZgxEaKTgF8a",
        "colab": {
          "base_uri": "https://localhost:8080/"
        },
        "outputId": "5ba0cf2f-06a8-4453-dd22-01bf0f830b47"
      },
      "source": [
        "!df -h"
      ],
      "execution_count": null,
      "outputs": [
        {
          "output_type": "stream",
          "name": "stdout",
          "text": [
            "Filesystem      Size  Used Avail Use% Mounted on\n",
            "overlay          79G   47G   32G  60% /\n",
            "tmpfs            64M     0   64M   0% /dev\n",
            "tmpfs           6.4G     0  6.4G   0% /sys/fs/cgroup\n",
            "shm             5.8G     0  5.8G   0% /dev/shm\n",
            "/dev/root       2.0G  1.2G  821M  59% /sbin/docker-init\n",
            "/dev/sda1        86G   51G   35G  60% /opt/bin/.nvidia\n",
            "tmpfs           6.4G   28K  6.4G   1% /var/colab\n",
            "tmpfs           6.4G     0  6.4G   0% /proc/acpi\n",
            "tmpfs           6.4G     0  6.4G   0% /proc/scsi\n",
            "tmpfs           6.4G     0  6.4G   0% /sys/firmware\n",
            "drive            79G   49G   31G  62% /content/drive\n"
          ]
        }
      ]
    },
    {
      "cell_type": "markdown",
      "metadata": {
        "id": "iNFjHKy8qdjh"
      },
      "source": [
        "# Colab %%magic function"
      ]
    },
    {
      "cell_type": "code",
      "metadata": {
        "id": "MzbrfP-hqYLp"
      },
      "source": [
        "%matplotlib inline"
      ],
      "execution_count": null,
      "outputs": []
    },
    {
      "cell_type": "code",
      "metadata": {
        "colab": {
          "base_uri": "https://localhost:8080/",
          "height": 157
        },
        "id": "yEDj4r_1qx2D",
        "outputId": "80ca28b8-0302-4ba0-e994-5f563ed645fd"
      },
      "source": [
        "%lsmagic"
      ],
      "execution_count": null,
      "outputs": [
        {
          "output_type": "execute_result",
          "data": {
            "application/json": {
              "cell": {
                "prun": "ExecutionMagics",
                "file": "Other",
                "!": "OSMagics",
                "capture": "ExecutionMagics",
                "timeit": "ExecutionMagics",
                "script": "ScriptMagics",
                "pypy": "Other",
                "system": "OSMagics",
                "perl": "Other",
                "html": "DisplayMagics",
                "bash": "Other",
                "shell": "Other",
                "HTML": "Other",
                "python": "Other",
                "SVG": "Other",
                "javascript": "DisplayMagics",
                "bigquery": "Other",
                "js": "DisplayMagics",
                "writefile": "OSMagics",
                "ruby": "Other",
                "python3": "Other",
                "python2": "Other",
                "latex": "DisplayMagics",
                "sx": "OSMagics",
                "svg": "DisplayMagics",
                "sh": "Other",
                "time": "ExecutionMagics",
                "debug": "ExecutionMagics"
              },
              "line": {
                "psource": "NamespaceMagics",
                "logstart": "LoggingMagics",
                "popd": "OSMagics",
                "tensorflow_version": "Other",
                "loadpy": "CodeMagics",
                "colors": "BasicMagics",
                "who_ls": "NamespaceMagics",
                "lf": "Other",
                "ll": "Other",
                "pprint": "BasicMagics",
                "lk": "Other",
                "ls": "Other",
                "save": "CodeMagics",
                "tb": "ExecutionMagics",
                "lx": "Other",
                "pylab": "PylabMagics",
                "killbgscripts": "ScriptMagics",
                "quickref": "BasicMagics",
                "magic": "BasicMagics",
                "dhist": "OSMagics",
                "edit": "KernelMagics",
                "logstop": "LoggingMagics",
                "gui": "BasicMagics",
                "prun": "ExecutionMagics",
                "debug": "ExecutionMagics",
                "page": "BasicMagics",
                "logstate": "LoggingMagics",
                "ed": "Other",
                "pushd": "OSMagics",
                "timeit": "ExecutionMagics",
                "set_env": "OSMagics",
                "rehashx": "OSMagics",
                "hist": "Other",
                "qtconsole": "KernelMagics",
                "rm": "Other",
                "dirs": "OSMagics",
                "run": "ExecutionMagics",
                "reset_selective": "NamespaceMagics",
                "pinfo2": "NamespaceMagics",
                "matplotlib": "PylabMagics",
                "unload_ext": "ExtensionMagics",
                "doctest_mode": "BasicMagics",
                "logoff": "LoggingMagics",
                "reload_ext": "ExtensionMagics",
                "pdb": "ExecutionMagics",
                "load": "CodeMagics",
                "lsmagic": "BasicMagics",
                "autosave": "KernelMagics",
                "cd": "OSMagics",
                "pastebin": "CodeMagics",
                "alias_magic": "BasicMagics",
                "cp": "Other",
                "autocall": "AutoMagics",
                "ldir": "Other",
                "bookmark": "OSMagics",
                "connect_info": "KernelMagics",
                "mkdir": "Other",
                "system": "OSMagics",
                "whos": "NamespaceMagics",
                "rmdir": "Other",
                "automagic": "AutoMagics",
                "store": "StoreMagics",
                "more": "KernelMagics",
                "shell": "Other",
                "pdef": "NamespaceMagics",
                "precision": "BasicMagics",
                "pinfo": "NamespaceMagics",
                "pwd": "OSMagics",
                "psearch": "NamespaceMagics",
                "reset": "NamespaceMagics",
                "recall": "HistoryMagics",
                "xdel": "NamespaceMagics",
                "xmode": "BasicMagics",
                "cat": "Other",
                "mv": "Other",
                "rerun": "HistoryMagics",
                "logon": "LoggingMagics",
                "history": "HistoryMagics",
                "pycat": "OSMagics",
                "pip": "Other",
                "unalias": "OSMagics",
                "env": "OSMagics",
                "load_ext": "ExtensionMagics",
                "config": "ConfigMagics",
                "profile": "BasicMagics",
                "pfile": "NamespaceMagics",
                "less": "KernelMagics",
                "who": "NamespaceMagics",
                "notebook": "BasicMagics",
                "man": "KernelMagics",
                "sx": "OSMagics",
                "macro": "ExecutionMagics",
                "clear": "KernelMagics",
                "alias": "OSMagics",
                "time": "ExecutionMagics",
                "sc": "OSMagics",
                "rep": "Other",
                "pdoc": "NamespaceMagics"
              }
            },
            "text/plain": [
              "Available line magics:\n",
              "%alias  %alias_magic  %autocall  %automagic  %autosave  %bookmark  %cat  %cd  %clear  %colors  %config  %connect_info  %cp  %debug  %dhist  %dirs  %doctest_mode  %ed  %edit  %env  %gui  %hist  %history  %killbgscripts  %ldir  %less  %lf  %lk  %ll  %load  %load_ext  %loadpy  %logoff  %logon  %logstart  %logstate  %logstop  %ls  %lsmagic  %lx  %macro  %magic  %man  %matplotlib  %mkdir  %more  %mv  %notebook  %page  %pastebin  %pdb  %pdef  %pdoc  %pfile  %pinfo  %pinfo2  %pip  %popd  %pprint  %precision  %profile  %prun  %psearch  %psource  %pushd  %pwd  %pycat  %pylab  %qtconsole  %quickref  %recall  %rehashx  %reload_ext  %rep  %rerun  %reset  %reset_selective  %rm  %rmdir  %run  %save  %sc  %set_env  %shell  %store  %sx  %system  %tb  %tensorflow_version  %time  %timeit  %unalias  %unload_ext  %who  %who_ls  %whos  %xdel  %xmode\n",
              "\n",
              "Available cell magics:\n",
              "%%!  %%HTML  %%SVG  %%bash  %%bigquery  %%capture  %%debug  %%file  %%html  %%javascript  %%js  %%latex  %%perl  %%prun  %%pypy  %%python  %%python2  %%python3  %%ruby  %%script  %%sh  %%shell  %%svg  %%sx  %%system  %%time  %%timeit  %%writefile\n",
              "\n",
              "Automagic is ON, % prefix IS NOT needed for line magics."
            ]
          },
          "metadata": {},
          "execution_count": 15
        }
      ]
    },
    {
      "cell_type": "code",
      "metadata": {
        "colab": {
          "base_uri": "https://localhost:8080/"
        },
        "id": "9stTHeClq1xT",
        "outputId": "be86b29a-26d1-4a64-f49c-730df8ac2468"
      },
      "source": [
        "%env"
      ],
      "execution_count": null,
      "outputs": [
        {
          "output_type": "execute_result",
          "data": {
            "text/plain": [
              "{'CLICOLOR': '1',\n",
              " 'CLOUDSDK_CONFIG': '/content/.config',\n",
              " 'CLOUDSDK_PYTHON': 'python3',\n",
              " 'COLAB_GPU': '1',\n",
              " 'CUDA_VERSION': '11.1.1',\n",
              " 'CUDNN_VERSION': '8.0.5.39',\n",
              " 'DATALAB_SETTINGS_OVERRIDES': '{\"kernelManagerProxyPort\":6000,\"kernelManagerProxyHost\":\"172.28.0.3\",\"jupyterArgs\":[\"--ip=\\\\\"172.28.0.2\\\\\"\"],\"debugAdapterMultiplexerPath\":\"/usr/local/bin/dap_multiplexer\",\"enableLsp\":true}',\n",
              " 'DEBIAN_FRONTEND': 'noninteractive',\n",
              " 'ENV': '/root/.bashrc',\n",
              " 'GCE_METADATA_TIMEOUT': '0',\n",
              " 'GCS_READ_CACHE_BLOCK_SIZE_MB': '16',\n",
              " 'GIT_PAGER': 'cat',\n",
              " 'GLIBCPP_FORCE_NEW': '1',\n",
              " 'GLIBCXX_FORCE_NEW': '1',\n",
              " 'HOME': '/root',\n",
              " 'HOSTNAME': 'd914633cad07',\n",
              " 'JPY_PARENT_PID': '65',\n",
              " 'LANG': 'en_US.UTF-8',\n",
              " 'LAST_FORCED_REBUILD': '20211007',\n",
              " 'LD_LIBRARY_PATH': '/usr/lib64-nvidia',\n",
              " 'LD_PRELOAD': '/usr/lib/x86_64-linux-gnu/libtcmalloc.so.4',\n",
              " 'LIBRARY_PATH': '/usr/local/cuda/lib64/stubs',\n",
              " 'MPLBACKEND': 'module://ipykernel.pylab.backend_inline',\n",
              " 'NCCL_VERSION': '2.7.8',\n",
              " 'NO_GCE_CHECK': 'True',\n",
              " 'NVIDIA_DRIVER_CAPABILITIES': 'compute,utility',\n",
              " 'NVIDIA_REQUIRE_CUDA': 'cuda>=11.1 brand=tesla,driver>=418,driver<419 brand=tesla,driver>=440,driver<441 brand=tesla,driver>=450,driver<451',\n",
              " 'NVIDIA_VISIBLE_DEVICES': 'all',\n",
              " 'OLDPWD': '/',\n",
              " 'PAGER': 'cat',\n",
              " 'PATH': '/usr/local/nvidia/bin:/usr/local/cuda/bin:/usr/local/sbin:/usr/local/bin:/usr/sbin:/usr/bin:/sbin:/bin:/tools/node/bin:/tools/google-cloud-sdk/bin:/opt/bin',\n",
              " 'PWD': '/',\n",
              " 'PYDEVD_USE_FRAME_EVAL': 'NO',\n",
              " 'PYTHONPATH': '/env/python',\n",
              " 'PYTHONWARNINGS': 'ignore:::pip._internal.cli.base_command',\n",
              " 'SHELL': '/bin/bash',\n",
              " 'SHLVL': '0',\n",
              " 'TBE_CREDS_ADDR': '172.28.0.1:8008',\n",
              " 'TERM': 'xterm-color',\n",
              " 'TF_FORCE_GPU_ALLOW_GROWTH': 'true',\n",
              " '__EGL_VENDOR_LIBRARY_DIRS': '/usr/lib64-nvidia:/usr/share/glvnd/egl_vendor.d/'}"
            ]
          },
          "metadata": {},
          "execution_count": 17
        }
      ]
    },
    {
      "cell_type": "markdown",
      "metadata": {
        "id": "7Z0-nrpkuQjG"
      },
      "source": [
        "change tf version"
      ]
    },
    {
      "cell_type": "code",
      "metadata": {
        "colab": {
          "base_uri": "https://localhost:8080/"
        },
        "id": "7B74umNxuQSf",
        "outputId": "ace757ce-3981-469d-a0e4-a073722c08cd"
      },
      "source": [
        "%tensorflow_version"
      ],
      "execution_count": null,
      "outputs": [
        {
          "output_type": "stream",
          "name": "stdout",
          "text": [
            "Currently selected TF version: 1.x\n",
            "Available versions:\n",
            "* 1.x\n",
            "* 2.x\n"
          ]
        }
      ]
    },
    {
      "cell_type": "code",
      "metadata": {
        "id": "A5t-9IihCO-I"
      },
      "source": [
        "import tensorflow as tf"
      ],
      "execution_count": null,
      "outputs": []
    },
    {
      "cell_type": "code",
      "metadata": {
        "colab": {
          "base_uri": "https://localhost:8080/"
        },
        "id": "fyluOXDWCT0N",
        "outputId": "02714ae8-d55d-42a0-dc47-a70fff29149c"
      },
      "source": [
        "print(tf.__version__)"
      ],
      "execution_count": null,
      "outputs": [
        {
          "output_type": "stream",
          "name": "stdout",
          "text": [
            "1.15.2\n"
          ]
        }
      ]
    },
    {
      "cell_type": "code",
      "metadata": {
        "id": "NssGiNiPvCek"
      },
      "source": [
        "def fib(n):\n",
        "    if n <= 1:\n",
        "        return 1\n",
        "    else:\n",
        "        return fib(n-1) + fib(n-2)"
      ],
      "execution_count": null,
      "outputs": []
    },
    {
      "cell_type": "code",
      "metadata": {
        "colab": {
          "base_uri": "https://localhost:8080/"
        },
        "id": "hbsyOe5FrFXc",
        "outputId": "ed9707c8-369d-415f-cd13-9b0341513231"
      },
      "source": [
        "%%timeit\n",
        "fib(3)"
      ],
      "execution_count": null,
      "outputs": [
        {
          "output_type": "stream",
          "name": "stdout",
          "text": [
            "The slowest run took 5.47 times longer than the fastest. This could mean that an intermediate result is being cached.\n",
            "1000000 loops, best of 5: 635 ns per loop\n"
          ]
        }
      ]
    },
    {
      "cell_type": "code",
      "metadata": {
        "colab": {
          "base_uri": "https://localhost:8080/",
          "height": 17
        },
        "id": "qZ2fO6CWCkzw",
        "outputId": "af2b2842-cd94-4b49-b945-8f3972c01ff7"
      },
      "source": [
        "%%javascript\n",
        "\n",
        "let n = 1"
      ],
      "execution_count": null,
      "outputs": [
        {
          "output_type": "display_data",
          "data": {
            "application/javascript": [
              "\n",
              "let n = 1"
            ],
            "text/plain": [
              "<IPython.core.display.Javascript object>"
            ]
          },
          "metadata": {}
        }
      ]
    },
    {
      "cell_type": "markdown",
      "metadata": {
        "id": "Zd6rhCY8ydY4"
      },
      "source": [
        "# DEBUG MODE\n",
        " \n",
        "\n"
      ]
    },
    {
      "cell_type": "code",
      "metadata": {
        "id": "j7Urj3kCyfpZ"
      },
      "source": [
        "# see /notebooks/debugger\n"
      ],
      "execution_count": null,
      "outputs": []
    },
    {
      "cell_type": "markdown",
      "metadata": {
        "id": "epqa0Nyh2evw"
      },
      "source": [
        "# TensorBoard"
      ]
    },
    {
      "cell_type": "code",
      "metadata": {
        "id": "_ks_S0BJ2d7B"
      },
      "source": [
        "# see /notebooks/tensorboard"
      ],
      "execution_count": null,
      "outputs": []
    },
    {
      "cell_type": "markdown",
      "metadata": {
        "id": "KKDLzkVE2omH"
      },
      "source": [
        "# Upload file\n",
        "\n",
        "1. use ```gui```\n",
        "2. use ```git```\n",
        "3. use `wget`\n",
        "4. use `rsync`"
      ]
    },
    {
      "cell_type": "code",
      "metadata": {
        "colab": {
          "base_uri": "https://localhost:8080/"
        },
        "id": "BNj9tQVo2kWY",
        "outputId": "f1080f46-80b2-4312-d8b2-1a2378cb3d02"
      },
      "source": [
        "# use gui\n",
        "!ls "
      ],
      "execution_count": null,
      "outputs": [
        {
          "output_type": "stream",
          "name": "stdout",
          "text": [
            "drive  sample_data  下載.jfif\n"
          ]
        }
      ]
    },
    {
      "cell_type": "code",
      "metadata": {
        "colab": {
          "base_uri": "https://localhost:8080/"
        },
        "id": "oyHwzHc_3KVh",
        "outputId": "f5eeddc0-a081-4ebb-a680-9781e3456b7c"
      },
      "source": [
        "# use git \n",
        "!git clone https://github.com/Joshua0128/colab_vm_setup.git"
      ],
      "execution_count": null,
      "outputs": [
        {
          "output_type": "stream",
          "name": "stdout",
          "text": [
            "Cloning into 'colab_vm_setup'...\n",
            "remote: Enumerating objects: 23, done.\u001b[K\n",
            "remote: Counting objects: 100% (23/23), done.\u001b[K\n",
            "remote: Compressing objects: 100% (20/20), done.\u001b[K\n",
            "remote: Total 23 (delta 6), reused 4 (delta 1), pack-reused 0\u001b[K\n",
            "Unpacking objects: 100% (23/23), done.\n"
          ]
        }
      ]
    },
    {
      "cell_type": "code",
      "metadata": {
        "colab": {
          "base_uri": "https://localhost:8080/"
        },
        "id": "ow-u7KtO3a-K",
        "outputId": "98a2a163-0c52-4fee-802e-c12f9c0cbb96"
      },
      "source": [
        "!ls"
      ],
      "execution_count": null,
      "outputs": [
        {
          "output_type": "stream",
          "name": "stdout",
          "text": [
            "colab_vm_setup\tdrive  sample_data  下載.jfif\n"
          ]
        }
      ]
    },
    {
      "cell_type": "code",
      "metadata": {
        "colab": {
          "base_uri": "https://localhost:8080/"
        },
        "id": "7H2JHzx03cuC",
        "outputId": "5bd56415-7345-4c4d-ff57-3d2aa6fd0bef"
      },
      "source": [
        "# use wget to download cifar10\n",
        "!wget https://www.cs.toronto.edu/~kriz/cifar-10-python.tar.gz"
      ],
      "execution_count": null,
      "outputs": [
        {
          "output_type": "stream",
          "name": "stdout",
          "text": [
            "--2021-10-16 06:52:55--  https://www.cs.toronto.edu/~kriz/cifar-10-python.tar.gz\n",
            "Resolving www.cs.toronto.edu (www.cs.toronto.edu)... 128.100.3.30\n",
            "Connecting to www.cs.toronto.edu (www.cs.toronto.edu)|128.100.3.30|:443... connected.\n",
            "HTTP request sent, awaiting response... 200 OK\n",
            "Length: 170498071 (163M) [application/x-gzip]\n",
            "Saving to: ‘cifar-10-python.tar.gz’\n",
            "\n",
            "cifar-10-python.tar 100%[===================>] 162.60M  94.8MB/s    in 1.7s    \n",
            "\n",
            "2021-10-16 06:52:57 (94.8 MB/s) - ‘cifar-10-python.tar.gz’ saved [170498071/170498071]\n",
            "\n"
          ]
        }
      ]
    },
    {
      "cell_type": "code",
      "metadata": {
        "id": "1HtSo4D43_Pb"
      },
      "source": [
        "%%capture\n",
        "!tar -xvf \"cifar-10-python.tar.gz\" -C \"./\"  "
      ],
      "execution_count": null,
      "outputs": []
    },
    {
      "cell_type": "code",
      "metadata": {
        "colab": {
          "base_uri": "https://localhost:8080/"
        },
        "id": "QKpTkpvD4Ad8",
        "outputId": "6cb73ce5-431c-4074-9a19-5fb115a8c696"
      },
      "source": [
        "!ls"
      ],
      "execution_count": null,
      "outputs": [
        {
          "output_type": "stream",
          "name": "stdout",
          "text": [
            "cifar-10-batches-py  cifar-10-python.tar.gz  colab_vm_setup  drive  sample_data\n"
          ]
        }
      ]
    },
    {
      "cell_type": "code",
      "metadata": {
        "id": "vtYEPZW54dN8"
      },
      "source": [
        "# use rsync to sync data\n",
        "# !rsync --progress -avh [source dir] [target dir]"
      ],
      "execution_count": null,
      "outputs": []
    },
    {
      "cell_type": "code",
      "metadata": {
        "colab": {
          "base_uri": "https://localhost:8080/"
        },
        "id": "K5Sxaq7wHI7e",
        "outputId": "206caa69-1c82-41dd-da77-1faaf11f5b85"
      },
      "source": [
        "!rsync"
      ],
      "execution_count": null,
      "outputs": [
        {
          "output_type": "stream",
          "name": "stdout",
          "text": [
            "rsync  version 3.1.2  protocol version 31\n",
            "Copyright (C) 1996-2015 by Andrew Tridgell, Wayne Davison, and others.\n",
            "Web site: http://rsync.samba.org/\n",
            "Capabilities:\n",
            "    64-bit files, 64-bit inums, 64-bit timestamps, 64-bit long ints,\n",
            "    socketpairs, hardlinks, symlinks, IPv6, batchfiles, inplace,\n",
            "    append, ACLs, xattrs, iconv, symtimes, prealloc\n",
            "\n",
            "rsync comes with ABSOLUTELY NO WARRANTY.  This is free software, and you\n",
            "are welcome to redistribute it under certain conditions.  See the GNU\n",
            "General Public Licence for details.\n",
            "\n",
            "rsync is a file transfer program capable of efficient remote update\n",
            "via a fast differencing algorithm.\n",
            "\n",
            "Usage: rsync [OPTION]... SRC [SRC]... DEST\n",
            "  or   rsync [OPTION]... SRC [SRC]... [USER@]HOST:DEST\n",
            "  or   rsync [OPTION]... SRC [SRC]... [USER@]HOST::DEST\n",
            "  or   rsync [OPTION]... SRC [SRC]... rsync://[USER@]HOST[:PORT]/DEST\n",
            "  or   rsync [OPTION]... [USER@]HOST:SRC [DEST]\n",
            "  or   rsync [OPTION]... [USER@]HOST::SRC [DEST]\n",
            "  or   rsync [OPTION]... rsync://[USER@]HOST[:PORT]/SRC [DEST]\n",
            "The ':' usages connect via remote shell, while '::' & 'rsync://' usages connect\n",
            "to an rsync daemon, and require SRC or DEST to start with a module name.\n",
            "\n",
            "Options\n",
            " -v, --verbose               increase verbosity\n",
            "     --info=FLAGS            fine-grained informational verbosity\n",
            "     --debug=FLAGS           fine-grained debug verbosity\n",
            "     --msgs2stderr           special output handling for debugging\n",
            " -q, --quiet                 suppress non-error messages\n",
            "     --no-motd               suppress daemon-mode MOTD (see manpage caveat)\n",
            " -c, --checksum              skip based on checksum, not mod-time & size\n",
            " -a, --archive               archive mode; equals -rlptgoD (no -H,-A,-X)\n",
            "     --no-OPTION             turn off an implied OPTION (e.g. --no-D)\n",
            " -r, --recursive             recurse into directories\n",
            " -R, --relative              use relative path names\n",
            "     --no-implied-dirs       don't send implied dirs with --relative\n",
            " -b, --backup                make backups (see --suffix & --backup-dir)\n",
            "     --backup-dir=DIR        make backups into hierarchy based in DIR\n",
            "     --suffix=SUFFIX         set backup suffix (default ~ w/o --backup-dir)\n",
            " -u, --update                skip files that are newer on the receiver\n",
            "     --inplace               update destination files in-place (SEE MAN PAGE)\n",
            "     --append                append data onto shorter files\n",
            "     --append-verify         like --append, but with old data in file checksum\n",
            " -d, --dirs                  transfer directories without recursing\n",
            " -l, --links                 copy symlinks as symlinks\n",
            " -L, --copy-links            transform symlink into referent file/dir\n",
            "     --copy-unsafe-links     only \"unsafe\" symlinks are transformed\n",
            "     --safe-links            ignore symlinks that point outside the source tree\n",
            "     --munge-links           munge symlinks to make them safer (but unusable)\n",
            " -k, --copy-dirlinks         transform symlink to a dir into referent dir\n",
            " -K, --keep-dirlinks         treat symlinked dir on receiver as dir\n",
            " -H, --hard-links            preserve hard links\n",
            " -p, --perms                 preserve permissions\n",
            " -E, --executability         preserve the file's executability\n",
            "     --chmod=CHMOD           affect file and/or directory permissions\n",
            " -A, --acls                  preserve ACLs (implies --perms)\n",
            " -X, --xattrs                preserve extended attributes\n",
            " -o, --owner                 preserve owner (super-user only)\n",
            " -g, --group                 preserve group\n",
            "     --devices               preserve device files (super-user only)\n",
            "     --copy-devices          copy device contents as regular file\n",
            "     --specials              preserve special files\n",
            " -D                          same as --devices --specials\n",
            " -t, --times                 preserve modification times\n",
            " -O, --omit-dir-times        omit directories from --times\n",
            " -J, --omit-link-times       omit symlinks from --times\n",
            "     --super                 receiver attempts super-user activities\n",
            "     --fake-super            store/recover privileged attrs using xattrs\n",
            " -S, --sparse                handle sparse files efficiently\n",
            "     --preallocate           allocate dest files before writing them\n",
            " -n, --dry-run               perform a trial run with no changes made\n",
            " -W, --whole-file            copy files whole (without delta-xfer algorithm)\n",
            " -x, --one-file-system       don't cross filesystem boundaries\n",
            " -B, --block-size=SIZE       force a fixed checksum block-size\n",
            " -e, --rsh=COMMAND           specify the remote shell to use\n",
            "     --rsync-path=PROGRAM    specify the rsync to run on the remote machine\n",
            "     --existing              skip creating new files on receiver\n",
            "     --ignore-existing       skip updating files that already exist on receiver\n",
            "     --remove-source-files   sender removes synchronized files (non-dirs)\n",
            "     --del                   an alias for --delete-during\n",
            "     --delete                delete extraneous files from destination dirs\n",
            "     --delete-before         receiver deletes before transfer, not during\n",
            "     --delete-during         receiver deletes during the transfer\n",
            "     --delete-delay          find deletions during, delete after\n",
            "     --delete-after          receiver deletes after transfer, not during\n",
            "     --delete-excluded       also delete excluded files from destination dirs\n",
            "     --ignore-missing-args   ignore missing source args without error\n",
            "     --delete-missing-args   delete missing source args from destination\n",
            "     --ignore-errors         delete even if there are I/O errors\n",
            "     --force                 force deletion of directories even if not empty\n",
            "     --max-delete=NUM        don't delete more than NUM files\n",
            "     --max-size=SIZE         don't transfer any file larger than SIZE\n",
            "     --min-size=SIZE         don't transfer any file smaller than SIZE\n",
            "     --partial               keep partially transferred files\n",
            "     --partial-dir=DIR       put a partially transferred file into DIR\n",
            "     --delay-updates         put all updated files into place at transfer's end\n",
            " -m, --prune-empty-dirs      prune empty directory chains from the file-list\n",
            "     --numeric-ids           don't map uid/gid values by user/group name\n",
            "     --usermap=STRING        custom username mapping\n",
            "     --groupmap=STRING       custom groupname mapping\n",
            "     --chown=USER:GROUP      simple username/groupname mapping\n",
            "     --timeout=SECONDS       set I/O timeout in seconds\n",
            "     --contimeout=SECONDS    set daemon connection timeout in seconds\n",
            " -I, --ignore-times          don't skip files that match in size and mod-time\n",
            " -M, --remote-option=OPTION  send OPTION to the remote side only\n",
            "     --size-only             skip files that match in size\n",
            "     --modify-window=NUM     compare mod-times with reduced accuracy\n",
            " -T, --temp-dir=DIR          create temporary files in directory DIR\n",
            " -y, --fuzzy                 find similar file for basis if no dest file\n",
            "     --compare-dest=DIR      also compare destination files relative to DIR\n",
            "     --copy-dest=DIR         ... and include copies of unchanged files\n",
            "     --link-dest=DIR         hardlink to files in DIR when unchanged\n",
            " -z, --compress              compress file data during the transfer\n",
            "     --compress-level=NUM    explicitly set compression level\n",
            "     --skip-compress=LIST    skip compressing files with a suffix in LIST\n",
            " -C, --cvs-exclude           auto-ignore files the same way CVS does\n",
            " -f, --filter=RULE           add a file-filtering RULE\n",
            " -F                          same as --filter='dir-merge /.rsync-filter'\n",
            "                             repeated: --filter='- .rsync-filter'\n",
            "     --exclude=PATTERN       exclude files matching PATTERN\n",
            "     --exclude-from=FILE     read exclude patterns from FILE\n",
            "     --include=PATTERN       don't exclude files matching PATTERN\n",
            "     --include-from=FILE     read include patterns from FILE\n",
            "     --files-from=FILE       read list of source-file names from FILE\n",
            " -0, --from0                 all *-from/filter files are delimited by 0s\n",
            " -s, --protect-args          no space-splitting; only wildcard special-chars\n",
            "     --address=ADDRESS       bind address for outgoing socket to daemon\n",
            "     --port=PORT             specify double-colon alternate port number\n",
            "     --sockopts=OPTIONS      specify custom TCP options\n",
            "     --blocking-io           use blocking I/O for the remote shell\n",
            "     --stats                 give some file-transfer stats\n",
            " -8, --8-bit-output          leave high-bit chars unescaped in output\n",
            " -h, --human-readable        output numbers in a human-readable format\n",
            "     --progress              show progress during transfer\n",
            " -P                          same as --partial --progress\n",
            " -i, --itemize-changes       output a change-summary for all updates\n",
            "     --out-format=FORMAT     output updates using the specified FORMAT\n",
            "     --log-file=FILE         log what we're doing to the specified FILE\n",
            "     --log-file-format=FMT   log updates using the specified FMT\n",
            "     --password-file=FILE    read daemon-access password from FILE\n",
            "     --list-only             list the files instead of copying them\n",
            "     --bwlimit=RATE          limit socket I/O bandwidth\n",
            "     --stop-at=y-m-dTh:m     Stop rsync at year-month-dayThour:minute\n",
            "     --time-limit=MINS       Stop rsync after MINS minutes have elapsed\n",
            "     --outbuf=N|L|B          set output buffering to None, Line, or Block\n",
            "     --write-batch=FILE      write a batched update to FILE\n",
            "     --only-write-batch=FILE like --write-batch but w/o updating destination\n",
            "     --read-batch=FILE       read a batched update from FILE\n",
            "     --protocol=NUM          force an older protocol version to be used\n",
            "     --iconv=CONVERT_SPEC    request charset conversion of filenames\n",
            "     --checksum-seed=NUM     set block/file checksum seed (advanced)\n",
            "     --noatime               do not alter atime when opening source files\n",
            " -4, --ipv4                  prefer IPv4\n",
            " -6, --ipv6                  prefer IPv6\n",
            "     --version               print version number\n",
            "(-h) --help                  show this help (-h is --help only if used alone)\n",
            "\n",
            "Use \"rsync --daemon --help\" to see the daemon-mode command-line options.\n",
            "Please see the rsync(1) and rsyncd.conf(5) man pages for full documentation.\n",
            "See http://rsync.samba.org/ for updates, bug reports, and answers\n",
            "rsync error: syntax or usage error (code 1) at main.c(1569) [client=3.1.2]\n"
          ]
        }
      ]
    },
    {
      "cell_type": "markdown",
      "metadata": {
        "id": "kZJJuFDb6dxF"
      },
      "source": [
        "# Use colab with online Vscode\n",
        "\n",
        "pros: cool, can edit multiple file, use powerful extension </br>\n",
        "cons: still hard to use"
      ]
    },
    {
      "cell_type": "code",
      "metadata": {
        "id": "xyIbX9pW4uGM"
      },
      "source": [
        " %%capture\n",
        " !pip install colabcode"
      ],
      "execution_count": null,
      "outputs": []
    },
    {
      "cell_type": "code",
      "metadata": {
        "id": "jon-Ldnd6nBf"
      },
      "source": [
        "from colabcode import ColabCode"
      ],
      "execution_count": null,
      "outputs": []
    },
    {
      "cell_type": "code",
      "metadata": {
        "id": "_lpKpopA6vaw",
        "colab": {
          "base_uri": "https://localhost:8080/",
          "height": 432
        },
        "outputId": "d93d75b5-f63b-4bac-98d4-009864652692"
      },
      "source": [
        "ColabCode(port=10000)"
      ],
      "execution_count": null,
      "outputs": [
        {
          "output_type": "stream",
          "name": "stdout",
          "text": [
            "Code Server can be accessed on: NgrokTunnel: \"https://c31e-34-78-131-39.ngrok.io\" -> \"http://localhost:10000\"\n",
            "[2021-10-16T08:06:00.995Z] info  code-server 3.10.2 387b12ef4ca404ffd39d84834e1f0776e9e3c005\n",
            "[2021-10-16T08:06:00.998Z] info  Using user-data-dir ~/.local/share/code-server\n",
            "[2021-10-16T08:06:01.017Z] info  Using config file ~/.config/code-server/config.yaml\n",
            "[2021-10-16T08:06:01.017Z] info  HTTP server listening on http://127.0.0.1:10000 \n",
            "[2021-10-16T08:06:01.017Z] info    - Authentication is disabled \n",
            "[2021-10-16T08:06:01.018Z] info    - Not serving HTTPS \n"
          ]
        },
        {
          "output_type": "error",
          "ename": "KeyboardInterrupt",
          "evalue": "ignored",
          "traceback": [
            "\u001b[0;31m---------------------------------------------------------------------------\u001b[0m",
            "\u001b[0;31mKeyboardInterrupt\u001b[0m                         Traceback (most recent call last)",
            "\u001b[0;32m<ipython-input-39-2880ce146dcf>\u001b[0m in \u001b[0;36m<module>\u001b[0;34m()\u001b[0m\n\u001b[0;32m----> 1\u001b[0;31m \u001b[0mColabCode\u001b[0m\u001b[0;34m(\u001b[0m\u001b[0mport\u001b[0m\u001b[0;34m=\u001b[0m\u001b[0;36m10000\u001b[0m\u001b[0;34m)\u001b[0m\u001b[0;34m\u001b[0m\u001b[0;34m\u001b[0m\u001b[0m\n\u001b[0m",
            "\u001b[0;32m/usr/local/lib/python3.7/dist-packages/colabcode/code.py\u001b[0m in \u001b[0;36m__init__\u001b[0;34m(self, port, password, authtoken, mount_drive, code, lab)\u001b[0m\n\u001b[1;32m     43\u001b[0m             \u001b[0mself\u001b[0m\u001b[0;34m.\u001b[0m\u001b[0m_install_extensions\u001b[0m\u001b[0;34m(\u001b[0m\u001b[0;34m)\u001b[0m\u001b[0;34m\u001b[0m\u001b[0;34m\u001b[0m\u001b[0m\n\u001b[1;32m     44\u001b[0m             \u001b[0mself\u001b[0m\u001b[0;34m.\u001b[0m\u001b[0m_start_server\u001b[0m\u001b[0;34m(\u001b[0m\u001b[0;34m)\u001b[0m\u001b[0;34m\u001b[0m\u001b[0;34m\u001b[0m\u001b[0m\n\u001b[0;32m---> 45\u001b[0;31m             \u001b[0mself\u001b[0m\u001b[0;34m.\u001b[0m\u001b[0m_run_code\u001b[0m\u001b[0;34m(\u001b[0m\u001b[0;34m)\u001b[0m\u001b[0;34m\u001b[0m\u001b[0;34m\u001b[0m\u001b[0m\n\u001b[0m\u001b[1;32m     46\u001b[0m \u001b[0;34m\u001b[0m\u001b[0m\n\u001b[1;32m     47\u001b[0m     \u001b[0;34m@\u001b[0m\u001b[0mstaticmethod\u001b[0m\u001b[0;34m\u001b[0m\u001b[0;34m\u001b[0m\u001b[0m\n",
            "\u001b[0;32m/usr/local/lib/python3.7/dist-packages/colabcode/code.py\u001b[0m in \u001b[0;36m_run_code\u001b[0;34m(self)\u001b[0m\n\u001b[1;32m    108\u001b[0m             \u001b[0muniversal_newlines\u001b[0m\u001b[0;34m=\u001b[0m\u001b[0;32mTrue\u001b[0m\u001b[0;34m,\u001b[0m\u001b[0;34m\u001b[0m\u001b[0;34m\u001b[0m\u001b[0m\n\u001b[1;32m    109\u001b[0m         ) as proc:\n\u001b[0;32m--> 110\u001b[0;31m             \u001b[0;32mfor\u001b[0m \u001b[0mline\u001b[0m \u001b[0;32min\u001b[0m \u001b[0mproc\u001b[0m\u001b[0;34m.\u001b[0m\u001b[0mstdout\u001b[0m\u001b[0;34m:\u001b[0m\u001b[0;34m\u001b[0m\u001b[0;34m\u001b[0m\u001b[0m\n\u001b[0m\u001b[1;32m    111\u001b[0m                 \u001b[0mprint\u001b[0m\u001b[0;34m(\u001b[0m\u001b[0mline\u001b[0m\u001b[0;34m,\u001b[0m \u001b[0mend\u001b[0m\u001b[0;34m=\u001b[0m\u001b[0;34m\"\"\u001b[0m\u001b[0;34m)\u001b[0m\u001b[0;34m\u001b[0m\u001b[0;34m\u001b[0m\u001b[0m\n\u001b[1;32m    112\u001b[0m \u001b[0;34m\u001b[0m\u001b[0m\n",
            "\u001b[0;31mKeyboardInterrupt\u001b[0m: "
          ]
        }
      ]
    },
    {
      "cell_type": "markdown",
      "metadata": {
        "id": "P6wvgueI8lrZ"
      },
      "source": [
        "# Use colab with SSH"
      ]
    },
    {
      "cell_type": "code",
      "metadata": {
        "colab": {
          "base_uri": "https://localhost:8080/",
          "height": 289
        },
        "id": "HVEF4qDt6yKw",
        "outputId": "ed17b0af-8693-4bbf-8a14-2da78a782d82"
      },
      "source": [
        "#@title Colab-ssh tunnel\n",
        "#@markdown Execute this cell to open the ssh tunnel. Check [colab-ssh documentation](https://github.com/WassimBenzarti/colab-ssh) for more details.\n",
        "\n",
        "# Install colab_ssh on google colab\n",
        "!pip install colab_ssh --upgrade\n",
        "\n",
        "from colab_ssh import launch_ssh_cloudflared, init_git_cloudflared\n",
        "ssh_tunnel_password = \"20211016\" #@param {type: \"string\"}\n",
        "launch_ssh_cloudflared(password=ssh_tunnel_password)\n",
        "\n",
        "# Optional: if you want to clone a Github or Gitlab repository\n",
        "# repository_url=\"https://github.com/Joshua0128/colab_vm_setup.git\" #@param {type: \"string\"}\n",
        "# init_git_cloudflared(repository_url)"
      ],
      "execution_count": 5,
      "outputs": [
        {
          "output_type": "stream",
          "name": "stdout",
          "text": [
            "Collecting colab_ssh\n",
            "  Downloading colab_ssh-0.3.23-py3-none-any.whl (26 kB)\n",
            "Installing collected packages: colab-ssh\n",
            "Successfully installed colab-ssh-0.3.23\n"
          ]
        },
        {
          "output_type": "display_data",
          "data": {
            "text/html": [
              "<style>\n",
              "*{\n",
              "\toutline:none;\n",
              "}\n",
              "code{\n",
              "\tdisplay:inline-block;\n",
              "\tpadding:5px 10px;\n",
              "\tbackground: #444;\n",
              "\tborder-radius: 4px;\n",
              "\twhite-space: pre-wrap;\n",
              "\tposition:relative;\n",
              "\tcolor:white;\n",
              "}\n",
              ".copy-code-button{\n",
              "\tfloat:right;\n",
              "\tbackground:#333;\n",
              "\tcolor:white;\n",
              "\tborder: none;\n",
              "\tmargin: 0 0 0 10px;\n",
              "\tcursor: pointer;\n",
              "}\n",
              "p, li{\n",
              "\tmax-width:700px;\n",
              "}\n",
              ".choices{\n",
              "\tdisplay:flex;\n",
              "\tflex: 1 0 auto;\n",
              "}\n",
              ".choice-section{\n",
              "\tborder:solid 1px #555;\n",
              "\tborder-radius: 4px;\n",
              "\tmin-width:300px;\n",
              "\tmargin: 10px 15px 0 0;\n",
              "\tpadding: 0 15px 15px 15px ;\n",
              "}\n",
              ".button{\n",
              "\tpadding: 10px 15px;\n",
              "\tbackground:#333;\n",
              "\tborder-radius: 4px;\n",
              "\tborder:solid 1px #555;\n",
              "\tcolor:white;\n",
              "\tfont-weight:bold;\n",
              "\tcursor:pointer;\n",
              "}\n",
              ".pill{\n",
              "\tpadding:2px 4px;\n",
              "\tborder-radius: 100px;\n",
              "\tbackground-color:#e65858;\n",
              "\tfont-size:12px;\n",
              "\tfont-weight:bold;\n",
              "\tmargin: 0 15px;\n",
              "\tcolor:white;\n",
              "}\n",
              "</style>\n",
              "<details class=\"choice-section\">\n",
              "\t<summary style=\"cursor:pointer\">\n",
              "\t\t<h3 style=\"display:inline-block;margin-top:15px\">⚙️ Client machine configuration<span class=\"pill\">Required</span></h3>\n",
              "\t</summary>\n",
              "\t<p>Don't worry, you only have to do this <b>once per client machine</b>.</p>\n",
              "\t<ol>\n",
              "\t\t<li>Download <a href=\"https://developers.cloudflare.com/argo-tunnel/getting-started/installation\">Cloudflared (Argo Tunnel)</a>, then copy the absolute path of the cloudflare binary</li>\n",
              "\t\t<li>Now, you have to append the following to your SSH config file (usually under ~/.ssh/config), and make sure you replace the placeholder with the path you copied in Step 1:</li>\n",
              "\t</ol>\n",
              "\t<code>Host *.trycloudflare.com\n",
              "\tHostName %h\n",
              "\tUser root\n",
              "\tPort 22\n",
              "\tProxyCommand &ltPUT_THE_ABSOLUTE_CLOUDFLARE_PATH_HERE&gt access ssh --hostname %h\n",
              "\t</code>\n",
              "</details>\n",
              "<div class=\"choices\">\n",
              "\t<div class=\"choice-section\">\n",
              "\t\t<h4>SSH Terminal</h4>\n",
              "\t\t<p>To connect using your terminal, type this command:</p>\n",
              "\t\t<code>ssh forgotten-cottages-joyce-deemed.trycloudflare.com</code>\n",
              "\t</div>\n",
              "\t<div class=\"choice-section\">\n",
              "\t\t<h4>VSCode Remote SSH</h4>\n",
              "\t\t<p>You can also connect with VSCode Remote SSH (Ctrl+Shift+P and type \"Connect to Host...\"). Then, paste the following hostname in the opened command palette:</p>\n",
              "\t\t<code>forgotten-cottages-joyce-deemed.trycloudflare.com</code>\n",
              "\t</div>\n",
              "</div>\n",
              "\n",
              "<script>\n",
              "// Copy any string\n",
              "function fallbackCopyTextToClipboard(text) {\n",
              "  var textArea = document.createElement(\"textarea\");\n",
              "  textArea.value = text;\n",
              "  \n",
              "  // Avoid scrolling to bottom\n",
              "  textArea.style.top = \"0\";\n",
              "  textArea.style.left = \"0\";\n",
              "  textArea.style.position = \"fixed\";\n",
              "\n",
              "  document.body.appendChild(textArea);\n",
              "  textArea.focus();\n",
              "  textArea.select();\n",
              "\n",
              "  try {\n",
              "    var successful = document.execCommand('copy');\n",
              "    var msg = successful ? 'successful' : 'unsuccessful';\n",
              "    console.log('Fallback: Copying text command was ' + msg);\n",
              "  } catch (err) {\n",
              "    console.error('Fallback: Oops, unable to copy', err);\n",
              "  }\n",
              "\n",
              "  document.body.removeChild(textArea);\n",
              "}\n",
              "\n",
              "// Show the copy button with every code tag\n",
              "document.querySelectorAll('code').forEach(function (codeBlock) {\n",
              "\tconst codeToCopy= codeBlock.innerText;\n",
              "\tvar pre = document.createElement('pre');\n",
              "\tpre.innerText = codeToCopy;\n",
              "    var button = document.createElement('button');\n",
              "    button.className = 'copy-code-button';\n",
              "    button.type = 'button';\n",
              "    button.innerText = 'Copy';\n",
              "\tbutton.onclick = function(){\n",
              "\t\tfallbackCopyTextToClipboard(codeToCopy);\n",
              "\t\tbutton.innerText = 'Copied'\n",
              "\t\tsetTimeout(()=>{\n",
              "\t\t\tbutton.innerText = 'Copy'\n",
              "\t\t},2000)\n",
              "\t}\n",
              "\tcodeBlock.children = pre;\n",
              "\tcodeBlock.prepend(button)\n",
              "});\n",
              "</script>\n"
            ],
            "text/plain": [
              "<IPython.core.display.HTML object>"
            ]
          },
          "metadata": {}
        }
      ]
    },
    {
      "cell_type": "markdown",
      "metadata": {
        "id": "dBSHO2KIPJYP"
      },
      "source": [
        "# Contineous click\n",
        "```\n",
        "function ClickConnect(){\n",
        "    console.log(\"Clicked on connect button\"); \n",
        "    document.querySelector(\"colab-connect-button\").click()\n",
        "}\n",
        "setInterval(ClickConnect,60000)\n",
        "```"
      ]
    },
    {
      "cell_type": "code",
      "metadata": {
        "id": "_f5QouoXPQYc"
      },
      "source": [
        ""
      ],
      "execution_count": null,
      "outputs": []
    }
  ]
}